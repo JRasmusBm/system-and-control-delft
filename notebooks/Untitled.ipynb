{
 "cells": [
  {
   "cell_type": "code",
   "execution_count": 5,
   "metadata": {},
   "outputs": [],
   "source": [
    "import numpy as np\n",
    "from scipy import signal\n",
    "import control"
   ]
  },
  {
   "cell_type": "code",
   "execution_count": 6,
   "metadata": {},
   "outputs": [
    {
     "name": "stdout",
     "output_type": "stream",
     "text": [
      "tr = 2.545584412271571\n",
      "ts = 9.2\n"
     ]
    }
   ],
   "source": [
    "def tr(Wn):\n",
    "    return 1.8 / Wn\n",
    "def ts(sigma):\n",
    "    return 4.6 / sigma\n",
    "def sigma(Wn, zeta):\n",
    "    return Wn * zeta\n",
    "print(f\"tr = {tr(2**(-1/2))}\")\n",
    "print(f\"ts = {ts(1/2)}\")"
   ]
  },
  {
   "cell_type": "markdown",
   "metadata": {},
   "source": [
    "num = [1]\n",
    "den = [1, 1, 0]\n",
    "tf = control.tf(num, den)"
   ]
  }
 ],
 "metadata": {
  "kernelspec": {
   "display_name": "Python 3",
   "language": "python",
   "name": "python3"
  },
  "language_info": {
   "codemirror_mode": {
    "name": "ipython",
    "version": 3
   },
   "file_extension": ".py",
   "mimetype": "text/x-python",
   "name": "python",
   "nbconvert_exporter": "python",
   "pygments_lexer": "ipython3",
   "version": "3.6.3"
  }
 },
 "nbformat": 4,
 "nbformat_minor": 2
}
