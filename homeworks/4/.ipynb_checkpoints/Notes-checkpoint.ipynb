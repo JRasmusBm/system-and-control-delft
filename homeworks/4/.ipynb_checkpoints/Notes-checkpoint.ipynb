{
 "cells": [
  {
   "cell_type": "code",
   "execution_count": 52,
   "metadata": {},
   "outputs": [],
   "source": [
    "from scipy import signal\n",
    "import control\n",
    "import numpy as np"
   ]
  },
  {
   "cell_type": "markdown",
   "metadata": {},
   "source": [
    "## Root Locus\n",
    "\n",
    "- $T(s) = \\frac{K G(s)}{1 + KG(s)H(s)}$\n",
    "- Symmetric around the real axis.\n",
    "- Start at poles and go to zeroes.\n",
    "- \\# Poles = \\# Branches.\n",
    "- On Real Axis, Root Locus exist to the left of Open Loop poles/zeros\n",
    "- $\\angle G(s)H(s) = \\pi$\n",
    "- Approaches straight lines as assymptotes as the Root Locus $\\rightarrow\\infty$\n",
    "- $\\sigma = \\frac{\\sum \\text{finite poles} - \\sum \\text{finite zeros}}\n",
    "{\\text{# finite poles } - \\text{ # finite zeros}}$\n",
    "- $\\theta = \\frac{\\pi(2k + 1)}\n",
    "{\\text{# finite poles } - \\text{ # finite zeros}}$"
   ]
  },
  {
   "cell_type": "code",
   "execution_count": 61,
   "metadata": {},
   "outputs": [
    {
     "data": {
      "image/png": "[encoded data removed]",
      "text/plain": [
       "<Figure size 432x288 with 1 Axes>"
      ]
     },
     "metadata": {},
     "output_type": "display_data"
    }
   ],
   "source": [
    "# Exercise 1\n",
    "\n",
    "poles = [4, 4, 4, -3, -1+4j, -1-4j]\n",
    "zeros = [0, 0, -2]\n",
    "\n",
    "scipyTF = signal.TransferFunction(signal.ZerosPolesGain(zeros, poles, 1))\n",
    "tf = control.tf(scipyTF.num, scipyTF.den)\n",
    "root_locus = control.root_locus(tf)"
   ]
  },
  {
   "cell_type": "code",
   "execution_count": 70,
   "metadata": {},
   "outputs": [
    {
     "data": {
      "text/plain": [
       "0.3333333333333333"
      ]
     },
     "metadata": {},
     "output_type": "display_data"
    },
    {
     "data": {
      "text/plain": [
       "1.0"
      ]
     },
     "metadata": {},
     "output_type": "display_data"
    },
    {
     "data": {
      "text/plain": [
       "-0.3333333333333333"
      ]
     },
     "metadata": {},
     "output_type": "display_data"
    },
    {
     "data": {
      "text/plain": [
       "(2.9999999999999964+0j)"
      ]
     },
     "metadata": {},
     "output_type": "display_data"
    },
    {
     "data": {
      "text/plain": [
       "6"
      ]
     },
     "metadata": {},
     "output_type": "display_data"
    },
    {
     "data": {
      "text/plain": [
       "3"
      ]
     },
     "metadata": {},
     "output_type": "display_data"
    }
   ],
   "source": [
    "poles = tf.pole()\n",
    "zeros = tf.zero()\n",
    "sigma = (sum(poles) - sum(zeros))/(len(poles) - len(zeros))\n",
    "def theta(k):\n",
    "    return (2*k+1)*np.pi/(len(poles) - len(zeros))\n",
    "display(theta(0)/np.pi)\n",
    "display(theta(1)/np.pi)\n",
    "display(theta(-1)/np.pi)\n",
    "display(sigma)\n",
    "display(len(poles))\n",
    "display(len(zeros))"
   ]
  },
  {
   "cell_type": "code",
   "execution_count": 106,
   "metadata": {},
   "outputs": [
    {
     "data": {
      "text/plain": [
       "0.28867513459481292"
      ]
     },
     "metadata": {},
     "output_type": "display_data"
    },
    {
     "data": {
      "text/plain": [
       "<module 'numpy' from '/home/rasmus/.virtualenvs/jupyter/lib/python3.6/site-packages/numpy/__init__.py'>"
      ]
     },
     "metadata": {},
     "output_type": "display_data"
    },
    {
     "data": {
      "text/plain": [
       "0.39269908169872414"
      ]
     },
     "metadata": {},
     "output_type": "display_data"
    },
    {
     "data": {
      "text/plain": [
       "3.4641016151377553"
      ]
     },
     "metadata": {},
     "output_type": "display_data"
    },
    {
     "data": {
      "text/plain": [
       "-2.6180561693777364"
      ]
     },
     "metadata": {},
     "output_type": "display_data"
    },
    {
     "data": {
      "text/plain": [
       "-150.0035690335317"
      ]
     },
     "metadata": {},
     "output_type": "display_data"
    }
   ],
   "source": [
    "# Exercise 2\n",
    "num = [4 * 3**(1/2)]\n",
    "den = [1, 2, 1, 0]\n",
    "tf = control.tf(num, den)\n",
    "GM, PM, _, _ = control.margin(tf) \n",
    "display(GM, np)\n",
    "display(np.pi/8)\n",
    "def A(w):\n",
    "    return 4 * 3**(1/2) / ( w * (w**2 + 1))\n",
    "def phase(w):\n",
    "    return -np.pi/2 - np.arctan(w)\n",
    "A_GM = A(np.tan(np.pi/4)) \n",
    "display(A_GM)\n",
    "display(phase(1.7323))\n",
    "display(np.rad2deg(np.pi-phase(1.7323)))"
   ]
  }
 ],
 "metadata": {
  "kernelspec": {
   "display_name": "Python 3",
   "language": "python",
   "name": "python3"
  },
  "language_info": {
   "codemirror_mode": {
    "name": "ipython",
    "version": 3
   },
   "file_extension": ".py",
   "mimetype": "text/x-python",
   "name": "python",
   "nbconvert_exporter": "python",
   "pygments_lexer": "ipython3",
   "version": "3.6.3"
  }
 },
 "nbformat": 4,
 "nbformat_minor": 2
}
